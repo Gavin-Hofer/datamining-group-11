{
 "metadata": {
  "language_info": {
   "codemirror_mode": {
    "name": "ipython",
    "version": 3
   },
   "file_extension": ".py",
   "mimetype": "text/x-python",
   "name": "python",
   "nbconvert_exporter": "python",
   "pygments_lexer": "ipython3",
   "version": "3.8.6"
  },
  "orig_nbformat": 2,
  "kernelspec": {
   "name": "pythonjvsc74a57bd0bb7a60ed8644274dfb8d0f077341046c00c278fb1a08c2f4e6b2c86a22654d65",
   "display_name": "Python 3.8.6  ('venv': venv)"
  },
  "metadata": {
   "interpreter": {
    "hash": "bb7a60ed8644274dfb8d0f077341046c00c278fb1a08c2f4e6b2c86a22654d65"
   }
  }
 },
 "nbformat": 4,
 "nbformat_minor": 2,
 "cells": [
  {
   "source": [
    "## Imports"
   ],
   "cell_type": "markdown",
   "metadata": {}
  },
  {
   "cell_type": "code",
   "execution_count": 57,
   "metadata": {},
   "outputs": [],
   "source": [
    "from sklearn.decomposition import PCA, TruncatedSVD\n",
    "import pandas as pd\n",
    "import numpy as np"
   ]
  },
  {
   "source": [
    "# Load Dataset\n",
    "Load the Million Song Dataset from 'YearPredictionsMSP.txt' (expected to be in the data folder)  \n",
    "Dataset Source: https://archive.ics.uci.edu/ml/datasets/YearPredictionMSD "
   ],
   "cell_type": "markdown",
   "metadata": {}
  },
  {
   "cell_type": "code",
   "execution_count": 101,
   "metadata": {},
   "outputs": [],
   "source": [
    "# Load the data from the text file\n",
    "raw_df = pd.read_csv(\"./data/YearPredictionMSD.txt\", header=None)\n",
    "years = raw_df[0].to_numpy(dtype=int)\n",
    "\n",
    "# Drop the year column and assign the attribute data to a numpy ndarray\n",
    "raw_df.drop(0, axis=1, inplace=True)\n",
    "attrib_data = raw_df.to_numpy()"
   ]
  },
  {
   "cell_type": "code",
   "execution_count": 108,
   "metadata": {},
   "outputs": [
    {
     "output_type": "stream",
     "name": "stdout",
     "text": [
      "Train Data Shape: (463715, 90)\nTest Data Shape:  (51630, 90)\n"
     ]
    }
   ],
   "source": [
    "# Split the raw data into training and test sets\n",
    "# The training set is the first 463715 examples, and the test set is\n",
    "# the remaining 51630 examples\n",
    "TRAIN_IDX = np.arange(0, 463715, dtype=int)\n",
    "TEST_IDX = np.arange(463715, 463715 + 51630, dtype=int)\n",
    "\n",
    "# Split data into training and test set, and also separate the year labels\n",
    "# from the attributes\n",
    "train = {\"year\": years[TRAIN_IDX], \"data\": attrib_data[TRAIN_IDX]}\n",
    "test = {\"year\": years[TEST_IDX], \"data\": attrib_data[TEST_IDX]}\n",
    "\n",
    "# Print the shape of the training and test data to ensure it\n",
    "# was loaded correctly. Expect 463715/51630 rows, and 90 columns\n",
    "print(f\"Train Data Shape: {train['data'].shape}\")\n",
    "print(f\"Test Data Shape:  {test['data'].shape}\")"
   ]
  },
  {
   "cell_type": "code",
   "execution_count": 100,
   "metadata": {},
   "outputs": [
    {
     "output_type": "execute_result",
     "data": {
      "text/plain": [
       "array([2001, 2001, 2001, ..., 2006, 2006, 2005])"
      ]
     },
     "metadata": {},
     "execution_count": 100
    }
   ],
   "source": [
    "raw_df[0].to_numpy(dtype=int)"
   ]
  },
  {
   "cell_type": "code",
   "execution_count": null,
   "metadata": {},
   "outputs": [],
   "source": []
  }
 ]
}